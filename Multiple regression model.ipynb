{
 "cells": [
  {
   "cell_type": "code",
   "execution_count": 2,
   "metadata": {},
   "outputs": [
    {
     "name": "stderr",
     "output_type": "stream",
     "text": [
      "C:\\Users\\tikun\\anaconda3\\lib\\site-packages\\IPython\\core\\interactiveshell.py:3063: DtypeWarning: Columns (77) have mixed types.Specify dtype option on import or set low_memory=False.\n",
      "  interactivity=interactivity, compiler=compiler, result=result)\n"
     ]
    }
   ],
   "source": [
    "import numpy\n",
    "import pandas as pd\n",
    "import statsmodels.api as sm\n",
    "import seaborn\n",
    "import statsmodels.formula.api as smf \n",
    "\n",
    "data = pd.read_csv(r'C:\\Users\\tikun\\Documents\\Data analysis projects\\Alcohol Consumption\\nesarc_pds.csv')\n",
    "pd.set_option('display.max_columns', None)\n",
    "pd.set_option('display.max_rows', None)\n",
    "\n",
    "\n",
    "\n",
    "data['S2AQ8A'] = pd.to_numeric(data['S2AQ8A'],errors='coerce')\n",
    "data['S2AQ8B'] = pd.to_numeric(data['S2AQ8B'],errors='coerce')\n",
    "data['S1Q10B'] = pd.to_numeric(data['S1Q10B'],errors='coerce')\n",
    "data['S1Q6A'] = pd.to_numeric(data['S1Q6A'],errors='coerce')\n",
    "data['AGE'] = pd.to_numeric(data['AGE'],errors='coerce')\n",
    "\n",
    "\n",
    "sub1=data[(data['AGE']>=18)]\n",
    "\n",
    "sub2 = sub1.copy()\n",
    "sub2['S2AQ8A']=sub2['S2AQ8A'].replace(99, numpy.nan)\n",
    "sub2['S2AQ8B']=sub2['S2AQ8B'].replace(99, numpy.nan)"
   ]
  },
  {
   "cell_type": "code",
   "execution_count": 3,
   "metadata": {},
   "outputs": [],
   "source": [
    "sub2['Percat']=pd.qcut(sub2.S1Q10B,3,labels=[\"Low\",\"Medium\",\"High\"])\n",
    "sub2[\"Percat\"] = sub2[\"Percat\"].astype('category')\n",
    "\n",
    "sub2['Gradecat'] = pd.qcut(sub2.S1Q6A,4,labels=[\"Primary\",\"High School\",\"College\",\"Higher Studies\"])\n",
    "sub2[\"Gradecat\"] = sub2[\"Gradecat\"].astype('category')\n",
    "\n",
    "recode1={1:365,2:360,3:208,4:104,5:52,6:36,7:12,8:11,9:6,10:2}\n",
    "sub2['USFREQMO']=sub2['S2AQ8A'].map(recode1)\n",
    "sub2['USFREQMO']=pd.to_numeric(sub2['USFREQMO'],errors='coerce')\n",
    "\n",
    "sub2['Toxic_Lvl']=sub2['USFREQMO']*sub2['S2AQ8B']\n",
    "sub2['Toxic_Lvl']=pd.to_numeric(sub2['Toxic_Lvl'],errors='coerce')\n"
   ]
  },
  {
   "cell_type": "code",
   "execution_count": 4,
   "metadata": {},
   "outputs": [
    {
     "name": "stdout",
     "output_type": "stream",
     "text": [
      "                            OLS Regression Results                            \n",
      "==============================================================================\n",
      "Dep. Variable:              Toxic_Lvl   R-squared:                       0.004\n",
      "Model:                            OLS   Adj. R-squared:                  0.004\n",
      "Method:                 Least Squares   F-statistic:                     20.43\n",
      "Date:                Mon, 16 Nov 2020   Prob (F-statistic):           2.06e-20\n",
      "Time:                        22:23:57   Log-Likelihood:            -2.0931e+05\n",
      "No. Observations:               26642   AIC:                         4.186e+05\n",
      "Df Residuals:                   26636   BIC:                         4.187e+05\n",
      "Df Model:                           5                                         \n",
      "Covariance Type:            nonrobust                                         \n",
      "==============================================================================================\n",
      "                                 coef    std err          t      P>|t|      [0.025      0.975]\n",
      "----------------------------------------------------------------------------------------------\n",
      "Intercept                    313.0736      8.299     37.723      0.000     296.807     329.341\n",
      "Gradecat[T.High School]      -29.2984      9.878     -2.966      0.003     -48.660      -9.937\n",
      "Gradecat[T.College]          -67.8894     14.022     -4.842      0.000     -95.374     -40.405\n",
      "Gradecat[T.Higher Studies]   -99.2724     10.454     -9.496      0.000    -119.763     -78.781\n",
      "Percat[T.Medium]               1.4948      9.566      0.156      0.876     -17.255      20.244\n",
      "Percat[T.High]                14.4848     10.416      1.391      0.164      -5.932      34.902\n",
      "==============================================================================\n",
      "Omnibus:                    47198.850   Durbin-Watson:                   2.002\n",
      "Prob(Omnibus):                  0.000   Jarque-Bera (JB):        221443566.330\n",
      "Skew:                          12.149   Prob(JB):                         0.00\n",
      "Kurtosis:                     448.975   Cond. No.                         5.10\n",
      "==============================================================================\n",
      "\n",
      "Warnings:\n",
      "[1] Standard Errors assume that the covariance matrix of the errors is correctly specified.\n"
     ]
    }
   ],
   "source": [
    "reg2 = smf.ols('Toxic_Lvl ~ Gradecat + Percat', data=sub2).fit()\n",
    "print (reg2.summary())\n"
   ]
  },
  {
   "cell_type": "code",
   "execution_count": null,
   "metadata": {},
   "outputs": [],
   "source": []
  }
 ],
 "metadata": {
  "kernelspec": {
   "display_name": "Python 3",
   "language": "python",
   "name": "python3"
  },
  "language_info": {
   "codemirror_mode": {
    "name": "ipython",
    "version": 3
   },
   "file_extension": ".py",
   "mimetype": "text/x-python",
   "name": "python",
   "nbconvert_exporter": "python",
   "pygments_lexer": "ipython3",
   "version": "3.7.6"
  }
 },
 "nbformat": 4,
 "nbformat_minor": 4
}
