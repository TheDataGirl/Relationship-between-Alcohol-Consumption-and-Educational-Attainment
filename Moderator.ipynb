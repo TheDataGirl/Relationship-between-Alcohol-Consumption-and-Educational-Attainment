{
 "cells": [
  {
   "cell_type": "code",
   "execution_count": 1,
   "metadata": {},
   "outputs": [
    {
     "name": "stderr",
     "output_type": "stream",
     "text": [
      "C:\\Users\\tikun\\anaconda3\\lib\\site-packages\\IPython\\core\\interactiveshell.py:3063: DtypeWarning: Columns (77) have mixed types.Specify dtype option on import or set low_memory=False.\n",
      "  interactivity=interactivity, compiler=compiler, result=result)\n"
     ]
    }
   ],
   "source": [
    "import numpy\n",
    "import pandas as pd\n",
    "import statsmodels.formula.api as smf \n",
    "import statsmodels.stats.multicomp as multi\n",
    "import seaborn\n",
    "import matplotlib.pyplot as plt\n",
    "\n",
    "data = pd.read_csv(r'C:\\Users\\tikun\\Documents\\Data analysis projects\\Alcohol Consumption\\nesarc_pds.csv')\n",
    "\n",
    "data['S2AQ8A'] = pd.to_numeric(data['S2AQ8A'],errors='coerce')\n",
    "data['S2AQ8B'] = pd.to_numeric(data['S2AQ8B'],errors='coerce')\n",
    "data['S1Q10B'] = pd.to_numeric(data['S1Q10B'],errors='coerce')\n",
    "data['S1Q6A'] = pd.to_numeric(data['S1Q6A'],errors='coerce')\n",
    "data['AGE'] = pd.to_numeric(data['AGE'],errors='coerce')\n",
    "\n",
    "\n",
    "sub1=data[(data['AGE']>=18)]\n",
    "\n",
    "sub2 = sub1.copy()\n",
    "sub2['S2AQ8A']=sub2['S2AQ8A'].replace(99, numpy.nan)\n",
    "sub2['S2AQ8B']=sub2['S2AQ8B'].replace(99, numpy.nan)\n"
   ]
  },
  {
   "cell_type": "code",
   "execution_count": 2,
   "metadata": {},
   "outputs": [
    {
     "name": "stdout",
     "output_type": "stream",
     "text": [
      "Toxic_Lvl\n",
      "2.0        2824\n",
      "4.0         532\n",
      "6.0        2073\n",
      "8.0          52\n",
      "10.0         21\n",
      "           ... \n",
      "9125.0        2\n",
      "10800.0       2\n",
      "10950.0       3\n",
      "15330.0       1\n",
      "35770.0       1\n",
      "Length: 132, dtype: int64\n"
     ]
    }
   ],
   "source": [
    "sub2['Percat']=pd.qcut(sub2.S1Q10B,3,labels=[\"Low\",\"Medium\",\"High\"])\n",
    "sub2[\"Percat\"] = sub2[\"Percat\"].astype('category')\n",
    "\n",
    "sub2['Gradecat'] = pd.qcut(sub2.S1Q6A,4,labels=[\"Primary\",\"High School\",\"College\",\"Higher Studies\"])\n",
    "sub2[\"Gradecat\"] = sub2[\"Gradecat\"].astype('category')\n",
    "\n",
    "\n",
    "recode1={1:365,2:360,3:208,4:104,5:52,6:36,7:12,8:11,9:6,10:2}\n",
    "sub2['USFREQMO']=sub2['S2AQ8A'].map(recode1)\n",
    "sub2['USFREQMO']=pd.to_numeric(sub2['USFREQMO'],errors='coerce')\n",
    "\n",
    "sub2['Toxic_Lvl']=sub2['USFREQMO']*sub2['S2AQ8B']\n",
    "sub2['Toxic_Lvl']=pd.to_numeric(sub2['Toxic_Lvl'],errors='coerce')\n",
    "\n",
    "ct1 = sub2.groupby('Toxic_Lvl').size()\n",
    "print (ct1)"
   ]
  },
  {
   "cell_type": "code",
   "execution_count": 3,
   "metadata": {},
   "outputs": [
    {
     "name": "stdout",
     "output_type": "stream",
     "text": [
      "                            OLS Regression Results                            \n",
      "==============================================================================\n",
      "Dep. Variable:              Toxic_Lvl   R-squared:                       0.004\n",
      "Model:                            OLS   Adj. R-squared:                  0.004\n",
      "Method:                 Least Squares   F-statistic:                     33.23\n",
      "Date:                Sun, 25 Oct 2020   Prob (F-statistic):           1.98e-21\n",
      "Time:                        20:15:17   Log-Likelihood:            -2.0932e+05\n",
      "No. Observations:               26642   AIC:                         4.186e+05\n",
      "Df Residuals:                   26638   BIC:                         4.187e+05\n",
      "Df Model:                           3                                         \n",
      "Covariance Type:            nonrobust                                         \n",
      "=================================================================================================\n",
      "                                    coef    std err          t      P>|t|      [0.025      0.975]\n",
      "-------------------------------------------------------------------------------------------------\n",
      "Intercept                       316.1034      6.358     49.716      0.000     303.641     328.566\n",
      "C(Gradecat)[T.High School]      -27.6043      9.816     -2.812      0.005     -46.844      -8.364\n",
      "C(Gradecat)[T.College]          -64.7449     13.861     -4.671      0.000     -91.913     -37.577\n",
      "C(Gradecat)[T.Higher Studies]   -92.9933      9.647     -9.640      0.000    -111.902     -74.085\n",
      "==============================================================================\n",
      "Omnibus:                    47183.864   Durbin-Watson:                   2.002\n",
      "Prob(Omnibus):                  0.000   Jarque-Bera (JB):        221150997.971\n",
      "Skew:                          12.140   Prob(JB):                         0.00\n",
      "Kurtosis:                     448.680   Cond. No.                         4.45\n",
      "==============================================================================\n",
      "\n",
      "Warnings:\n",
      "[1] Standard Errors assume that the covariance matrix of the errors is correctly specified.\n",
      "means for alcohol consumption by highest level of education\n",
      "                 Toxic_Lvl\n",
      "Gradecat                  \n",
      "Primary         316.103395\n",
      "High School     288.499141\n",
      "College         251.358447\n",
      "Higher Studies  223.110093\n",
      "standard deviation for mean alcohol consumption by highest level of education\n",
      "                 Toxic_Lvl\n",
      "Gradecat                  \n",
      "Primary         785.157737\n",
      "High School     583.451849\n",
      "College         572.857695\n",
      "Higher Studies  406.719989\n"
     ]
    }
   ],
   "source": [
    "model1 = smf.ols(formula='Toxic_Lvl ~ C(Gradecat)', data=sub2).fit()\n",
    "print (model1.summary())\n",
    "\n",
    "sub3 = sub2[['Toxic_Lvl', 'Gradecat']].dropna()\n",
    "\n",
    "print (\"means for alcohol consumption by highest level of education\")\n",
    "m1= sub3.groupby('Gradecat').mean()\n",
    "print (m1)\n",
    "\n",
    "print (\"standard deviation for mean alcohol consumption by highest level of education\")\n",
    "st1= sub3.groupby('Gradecat').std()\n",
    "print (st1)\n",
    "\n",
    "\n",
    "\n"
   ]
  },
  {
   "cell_type": "code",
   "execution_count": 4,
   "metadata": {},
   "outputs": [
    {
     "name": "stderr",
     "output_type": "stream",
     "text": [
      "C:\\Users\\tikun\\anaconda3\\lib\\site-packages\\seaborn\\categorical.py:3669: UserWarning: The `factorplot` function has been renamed to `catplot`. The original name will be removed in a future release. Please update your code. Note that the default `kind` in `factorplot` (`'point'`) has changed `'strip'` in `catplot`.\n",
      "  warnings.warn(msg)\n"
     ]
    },
    {
     "data": {
      "text/plain": [
       "Text(3.674999999999997, 0.5, 'Average alcohol consumption')"
      ]
     },
     "execution_count": 4,
     "metadata": {},
     "output_type": "execute_result"
    },
    {
     "data": {
      "image/png": "[encoded data removed]",
      "text/plain": [
       "<Figure size 360x360 with 1 Axes>"
      ]
     },
     "metadata": {
      "needs_background": "light"
     },
     "output_type": "display_data"
    }
   ],
   "source": [
    "# bivariate bar graph\n",
    "seaborn.factorplot(x=\"Gradecat\", y=\"Toxic_Lvl\", data=sub2, kind=\"bar\", ci=None)\n",
    "plt.xlabel('Highest level of education')\n",
    "plt.ylabel('Average alcohol consumption')\n"
   ]
  },
  {
   "cell_type": "code",
   "execution_count": 7,
   "metadata": {},
   "outputs": [
    {
     "name": "stderr",
     "output_type": "stream",
     "text": [
      "C:\\Users\\tikun\\anaconda3\\lib\\site-packages\\ipykernel_launcher.py:1: UserWarning: Boolean Series key will be reindexed to match DataFrame index.\n",
      "  \"\"\"Entry point for launching an IPython kernel.\n",
      "C:\\Users\\tikun\\anaconda3\\lib\\site-packages\\ipykernel_launcher.py:2: UserWarning: Boolean Series key will be reindexed to match DataFrame index.\n",
      "  \n",
      "C:\\Users\\tikun\\anaconda3\\lib\\site-packages\\ipykernel_launcher.py:3: UserWarning: Boolean Series key will be reindexed to match DataFrame index.\n",
      "  This is separate from the ipykernel package so we can avoid doing imports until\n"
     ]
    },
    {
     "name": "stdout",
     "output_type": "stream",
     "text": [
      "association between highest grade and alcohol consumption for low income group\n",
      "                            OLS Regression Results                            \n",
      "==============================================================================\n",
      "Dep. Variable:              Toxic_Lvl   R-squared:                       0.002\n",
      "Model:                            OLS   Adj. R-squared:                  0.001\n",
      "Method:                 Least Squares   F-statistic:                     4.114\n",
      "Date:                Sun, 25 Oct 2020   Prob (F-statistic):            0.00633\n",
      "Time:                        20:38:11   Log-Likelihood:                -61587.\n",
      "No. Observations:                7573   AIC:                         1.232e+05\n",
      "Df Residuals:                    7569   BIC:                         1.232e+05\n",
      "Df Model:                           3                                         \n",
      "Covariance Type:            nonrobust                                         \n",
      "=================================================================================================\n",
      "                                    coef    std err          t      P>|t|      [0.025      0.975]\n",
      "-------------------------------------------------------------------------------------------------\n",
      "Intercept                       313.5656     13.316     23.548      0.000     287.462     339.669\n",
      "C(Gradecat)[T.High School]      -33.2491     22.103     -1.504      0.133     -76.577      10.078\n",
      "C(Gradecat)[T.College]          -69.5547     37.531     -1.853      0.064    -143.127       4.017\n",
      "C(Gradecat)[T.Higher Studies]   -93.5597     29.070     -3.218      0.001    -150.545     -36.574\n",
      "==============================================================================\n",
      "Omnibus:                    14838.978   Durbin-Watson:                   2.023\n",
      "Prob(Omnibus):                  0.000   Jarque-Bera (JB):         78783548.949\n",
      "Skew:                          15.188   Prob(JB):                         0.00\n",
      "Kurtosis:                     501.753   Cond. No.                         4.42\n",
      "==============================================================================\n",
      "\n",
      "Warnings:\n",
      "[1] Standard Errors assume that the covariance matrix of the errors is correctly specified.\n",
      "association between highest grade and alcohol consumption for middle income group\n",
      "                            OLS Regression Results                            \n",
      "==============================================================================\n",
      "Dep. Variable:              Toxic_Lvl   R-squared:                       0.003\n",
      "Model:                            OLS   Adj. R-squared:                  0.003\n",
      "Method:                 Least Squares   F-statistic:                     9.965\n",
      "Date:                Sun, 25 Oct 2020   Prob (F-statistic):           1.48e-06\n",
      "Time:                        20:38:11   Log-Likelihood:                -77459.\n",
      "No. Observations:                9928   AIC:                         1.549e+05\n",
      "Df Residuals:                    9924   BIC:                         1.550e+05\n",
      "Df Model:                           3                                         \n",
      "Covariance Type:            nonrobust                                         \n",
      "=================================================================================================\n",
      "                                    coef    std err          t      P>|t|      [0.025      0.975]\n",
      "-------------------------------------------------------------------------------------------------\n",
      "Intercept                       304.9034      9.075     33.598      0.000     287.115     322.692\n",
      "C(Gradecat)[T.High School]      -12.2175     14.378     -0.850      0.395     -40.401      15.966\n",
      "C(Gradecat)[T.College]          -43.1406     20.531     -2.101      0.036     -83.385      -2.897\n",
      "C(Gradecat)[T.Higher Studies]   -87.0618     16.566     -5.256      0.000    -119.534     -54.589\n",
      "==============================================================================\n",
      "Omnibus:                    10700.455   Durbin-Watson:                   2.004\n",
      "Prob(Omnibus):                  0.000   Jarque-Bera (JB):           983486.626\n",
      "Skew:                           5.431   Prob(JB):                         0.00\n",
      "Kurtosis:                      50.534   Cond. No.                         4.17\n",
      "==============================================================================\n",
      "\n",
      "Warnings:\n",
      "[1] Standard Errors assume that the covariance matrix of the errors is correctly specified.\n",
      "association between highest grade and alcohol consumption for high income group\n",
      "                            OLS Regression Results                            \n",
      "==============================================================================\n",
      "Dep. Variable:              Toxic_Lvl   R-squared:                       0.012\n",
      "Model:                            OLS   Adj. R-squared:                  0.011\n",
      "Method:                 Least Squares   F-statistic:                     35.53\n",
      "Date:                Sun, 25 Oct 2020   Prob (F-statistic):           8.04e-23\n",
      "Time:                        20:38:12   Log-Likelihood:                -68662.\n",
      "No. Observations:                9141   AIC:                         1.373e+05\n",
      "Df Residuals:                    9137   BIC:                         1.374e+05\n",
      "Df Model:                           3                                         \n",
      "Covariance Type:            nonrobust                                         \n",
      "=================================================================================================\n",
      "                                    coef    std err          t      P>|t|      [0.025      0.975]\n",
      "-------------------------------------------------------------------------------------------------\n",
      "Intercept                       352.3578     11.128     31.664      0.000     330.544     374.171\n",
      "C(Gradecat)[T.High School]      -60.8168     14.914     -4.078      0.000     -90.052     -31.582\n",
      "C(Gradecat)[T.College]         -107.7594     17.931     -6.010      0.000    -142.908     -72.611\n",
      "C(Gradecat)[T.Higher Studies]  -126.4615     12.907     -9.798      0.000    -151.763    -101.160\n",
      "==============================================================================\n",
      "Omnibus:                     8785.328   Durbin-Watson:                   2.030\n",
      "Prob(Omnibus):                  0.000   Jarque-Bera (JB):           658208.787\n",
      "Skew:                           4.509   Prob(JB):                         0.00\n",
      "Kurtosis:                      43.581   Cond. No.                         6.10\n",
      "==============================================================================\n",
      "\n",
      "Warnings:\n",
      "[1] Standard Errors assume that the covariance matrix of the errors is correctly specified.\n"
     ]
    }
   ],
   "source": [
    "sub4=sub3[(sub2['Percat']=='Low')]\n",
    "sub5=sub3[(sub2['Percat']=='Medium')]\n",
    "sub6=sub3[(sub2['Percat']=='High')]\n",
    "\n",
    "print ('association between highest grade and alcohol consumption for low income group')\n",
    "model2 = smf.ols(formula='Toxic_Lvl ~ C(Gradecat)', data=sub4).fit()\n",
    "print (model2.summary())\n",
    "\n",
    "print ('association between highest grade and alcohol consumption for middle income group')\n",
    "model3 = smf.ols(formula='Toxic_Lvl ~ C(Gradecat)', data=sub5).fit()\n",
    "print (model3.summary())\n",
    "\n",
    "print ('association between highest grade and alcohol consumption for high income group')\n",
    "model4 = smf.ols(formula='Toxic_Lvl ~ C(Gradecat)', data=sub6).fit()\n",
    "print (model4.summary())\n",
    "\n"
   ]
  },
  {
   "cell_type": "code",
   "execution_count": 8,
   "metadata": {},
   "outputs": [
    {
     "name": "stdout",
     "output_type": "stream",
     "text": [
      "Means for Alcohol consumption by Highest grade  for low income group\n",
      "                 Toxic_Lvl\n",
      "Gradecat                  \n",
      "Primary         313.565604\n",
      "High School     280.316514\n",
      "College         244.010889\n",
      "Higher Studies  220.005906\n",
      "Means for Alcohol consumption by Highest grade  for middle income group\n",
      "                 Toxic_Lvl\n",
      "Gradecat                  \n",
      "Primary         304.903385\n",
      "High School     292.685836\n",
      "College         261.762827\n",
      "Higher Studies  217.841557\n",
      "Means for Alcohol consumption by Highest grade  for high income group\n",
      "                 Toxic_Lvl\n",
      "Gradecat                  \n",
      "Primary         352.357775\n",
      "High School     291.541017\n",
      "College         244.598385\n",
      "Higher Studies  225.896311\n"
     ]
    }
   ],
   "source": [
    "print (\"Means for Alcohol consumption by Highest grade  for low income group\")\n",
    "m2= sub4.groupby('Gradecat').mean()\n",
    "print (m2)\n",
    "print (\"Means for Alcohol consumption by Highest grade  for middle income group\")\n",
    "m3 = sub5.groupby('Gradecat').mean()\n",
    "print (m3)\n",
    "\n",
    "print (\"Means for Alcohol consumption by Highest grade  for high income group\")\n",
    "m4 = sub6.groupby('Gradecat').mean()\n",
    "print (m4)"
   ]
  },
  {
   "cell_type": "code",
   "execution_count": null,
   "metadata": {},
   "outputs": [],
   "source": []
  }
 ],
 "metadata": {
  "kernelspec": {
   "display_name": "Python 3",
   "language": "python",
   "name": "python3"
  },
  "language_info": {
   "codemirror_mode": {
    "name": "ipython",
    "version": 3
   },
   "file_extension": ".py",
   "mimetype": "text/x-python",
   "name": "python",
   "nbconvert_exporter": "python",
   "pygments_lexer": "ipython3",
   "version": "3.7.6"
  }
 },
 "nbformat": 4,
 "nbformat_minor": 4
}
